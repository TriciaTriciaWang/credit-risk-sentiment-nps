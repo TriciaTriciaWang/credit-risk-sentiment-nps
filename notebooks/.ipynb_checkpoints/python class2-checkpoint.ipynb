{
 "cells": [
  {
   "cell_type": "code",
   "execution_count": 166,
   "id": "6c7024aa-4df5-4fb7-a329-46b67a889b2e",
   "metadata": {},
   "outputs": [],
   "source": [
    "# To populate a list Method 1\n",
    "squares = []\n",
    "for value in range(1,11):\n",
    "    square = value**2\n",
    "    squares.append(square)\n",
    "\n",
    "# To remove some data from a list Method 1\n",
    "remove_list=[25,36]\n",
    "for value in remove_list:\n",
    "    squares.remove(value)"
   ]
  },
  {
   "cell_type": "code",
   "execution_count": 167,
   "id": "b26b9036-65a8-4c4a-b10e-d0ffa100e519",
   "metadata": {},
   "outputs": [],
   "source": [
    "# To populate a list Method 2\n",
    "square = []\n",
    "squares = [value**2 for value in range(1,11)]\n",
    "\n",
    "# To remove some data from a list Method 2\n",
    "remove_list=[25,36]\n",
    "squares = [x for x in squares if x not in remove_list]"
   ]
  },
  {
   "cell_type": "code",
   "execution_count": 168,
   "id": "2495ee4f-2cf0-4060-ac4e-152fceda6ec4",
   "metadata": {},
   "outputs": [],
   "source": [
    "# how to delete all 'aa' Method 1\n",
    "players = ['aa','charles', 'martina', 'michael', 'aa','florence', 'eli','aa']\n",
    "remove_list=['aa']\n",
    "while 'aa' in players:\n",
    "    players.remove('aa')"
   ]
  },
  {
   "cell_type": "code",
   "execution_count": 169,
   "id": "d7e5b7f3-553e-4c8a-9aea-7dbeae1e35ab",
   "metadata": {},
   "outputs": [],
   "source": [
    "# how to delete all 'aa' Method 2\n",
    "players = ['charles', 'martina', 'michael', 'aa','florence', 'eli','aa']\n",
    "remove_list=['aa']\n",
    "players = [ x for x in players if x not in remove_list]"
   ]
  },
  {
   "cell_type": "code",
   "execution_count": 174,
   "id": "2dba429b-fbf4-44cf-a35a-5b75877b6d43",
   "metadata": {},
   "outputs": [
    {
     "name": "stdout",
     "output_type": "stream",
     "text": [
      "['alice', 'david', 'carolina']\n"
     ]
    }
   ],
   "source": [
    "magicians = ['alice', 'david', 'carolina']\n",
    "# /for magician in magicians:\n",
    "\n",
    "\n",
    "print([ x for x in magicians])\n"
   ]
  },
  {
   "cell_type": "code",
   "execution_count": 175,
   "id": "43a9d341-58f4-4ea9-b9aa-d82e1dd20a2b",
   "metadata": {},
   "outputs": [
    {
     "name": "stdout",
     "output_type": "stream",
     "text": [
      "alice\n",
      "david\n",
      "carolina\n"
     ]
    }
   ],
   "source": [
    "magicians = ['alice', 'david', 'carolina']\n",
    "for magician in magicians:\n",
    "    print(magician)\n",
    "\n"
   ]
  },
  {
   "cell_type": "code",
   "execution_count": null,
   "id": "c4a99907-2e35-418b-ae2d-22c171366370",
   "metadata": {},
   "outputs": [],
   "source": []
  }
 ],
 "metadata": {
  "kernelspec": {
   "display_name": "Python 3 (ipykernel)",
   "language": "python",
   "name": "python3"
  },
  "language_info": {
   "codemirror_mode": {
    "name": "ipython",
    "version": 3
   },
   "file_extension": ".py",
   "mimetype": "text/x-python",
   "name": "python",
   "nbconvert_exporter": "python",
   "pygments_lexer": "ipython3",
   "version": "3.12.7"
  }
 },
 "nbformat": 4,
 "nbformat_minor": 5
}

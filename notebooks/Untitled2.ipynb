{
 "cells": [
  {
   "cell_type": "code",
   "execution_count": 1,
   "id": "a65c731a-959b-4f06-8443-88387a1b3529",
   "metadata": {},
   "outputs": [],
   "source": [
    "import pandas as pd\n",
    "import numpy as np\n",
    "\n",
    "df1=pd.read_csv( r\"C:\\Users\\User\\Documents\\GitHub\\credit-risk-sentiment-nps\\data\\official\\attrited_only_voluntary_personal_sentiment_nps_sample.csv\", encoding='ISO-8859-1')\n",
    "\n",
    "dfinvol=pd.read_csv( r\"C:\\Users\\User\\Documents\\GitHub\\credit-risk-sentiment-nps\\data\\official\\attrited_only_involuntary_business_sentiment_nps_sample.csv\", encoding='ISO-8859-1')\n",
    "\n",
    "\n",
    "\n",
    "df1.rename(columns={\n",
    "    \"Naive_Bayes_Classifier_Attrition_Flag_Card_Category_Contacts_Count_12_mon_Dependent_count_Education_Level_Months_Inactive_12_mon_1\": \"NB_Attrition_Prob_Yes\",\n",
    "    \"Naive_Bayes_Classifier_Attrition_Flag_Card_Category_Contacts_Count_12_mon_Dependent_count_Education_Level_Months_Inactive_12_mon_2\": \"NB_Attrition_Prob_No\"\n",
    "}, inplace=True)\n",
    "\n",
    "df2= pd.read_csv( r\"C:\\Users\\User\\Documents\\GitHub\\credit-risk-sentiment-nps\\data\\official\\credit_risk_after_data_cleansing.csv\")"
   ]
  },
  {
   "cell_type": "code",
   "execution_count": null,
   "id": "58408b10-6832-4cf6-9e4d-a422d3401d37",
   "metadata": {},
   "outputs": [],
   "source": []
  }
 ],
 "metadata": {
  "kernelspec": {
   "display_name": "Python 3 (ipykernel)",
   "language": "python",
   "name": "python3"
  },
  "language_info": {
   "codemirror_mode": {
    "name": "ipython",
    "version": 3
   },
   "file_extension": ".py",
   "mimetype": "text/x-python",
   "name": "python",
   "nbconvert_exporter": "python",
   "pygments_lexer": "ipython3",
   "version": "3.13.5"
  }
 },
 "nbformat": 4,
 "nbformat_minor": 5
}

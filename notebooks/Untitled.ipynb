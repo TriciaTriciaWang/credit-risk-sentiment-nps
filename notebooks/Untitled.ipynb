{
 "cells": [
  {
   "cell_type": "code",
   "execution_count": 1,
   "id": "ae81f7c2-8099-495d-a4dd-f16f79e7c272",
   "metadata": {},
   "outputs": [
    {
     "name": "stdout",
     "output_type": "stream",
     "text": [
      "  Attrition_Type\n",
      "0      Voluntary\n",
      "1    Involuntary\n",
      "2      Voluntary\n",
      "3    Involuntary\n",
      "4      Voluntary\n",
      "5    Involuntary\n",
      "6      Voluntary\n",
      "7    Involuntary\n",
      "8      Voluntary\n",
      "9    Involuntary\n"
     ]
    }
   ],
   "source": [
    "import pandas as pd\n",
    "\n",
    "# Example: Let's say you have a DataFrame with 10 rows\n",
    "num_rows = 10\n",
    "df = pd.DataFrame(index=range(num_rows))\n",
    "\n",
    "# Create alternating values\n",
    "df['Attrition_Type'] = ['Voluntary' if i % 2 == 0 else 'Involuntary' for i in range(num_rows)]\n",
    "\n",
    "print(df)\n"
   ]
  },
  {
   "cell_type": "code",
   "execution_count": null,
   "id": "2cce8b2b-3065-43bd-a079-8583ec30b398",
   "metadata": {},
   "outputs": [],
   "source": []
  }
 ],
 "metadata": {
  "kernelspec": {
   "display_name": "Python 3 (ipykernel)",
   "language": "python",
   "name": "python3"
  },
  "language_info": {
   "codemirror_mode": {
    "name": "ipython",
    "version": 3
   },
   "file_extension": ".py",
   "mimetype": "text/x-python",
   "name": "python",
   "nbconvert_exporter": "python",
   "pygments_lexer": "ipython3",
   "version": "3.12.7"
  }
 },
 "nbformat": 4,
 "nbformat_minor": 5
}

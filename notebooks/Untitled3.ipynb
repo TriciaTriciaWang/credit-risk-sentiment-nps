{
 "cells": [
  {
   "cell_type": "code",
   "execution_count": 1,
   "id": "1f56973e-c035-437a-bb19-016e6e124be3",
   "metadata": {},
   "outputs": [
    {
     "ename": "NameError",
     "evalue": "name 'df' is not defined",
     "output_type": "error",
     "traceback": [
      "\u001b[1;31m---------------------------------------------------------------------------\u001b[0m",
      "\u001b[1;31mNameError\u001b[0m                                 Traceback (most recent call last)",
      "Cell \u001b[1;32mIn[1], line 5\u001b[0m\n\u001b[0;32m      1\u001b[0m \u001b[38;5;28;01mimport\u001b[39;00m\u001b[38;5;250m \u001b[39m\u001b[38;5;21;01mpandas\u001b[39;00m\u001b[38;5;250m \u001b[39m\u001b[38;5;28;01mas\u001b[39;00m\u001b[38;5;250m \u001b[39m\u001b[38;5;21;01mpd\u001b[39;00m\n\u001b[0;32m      3\u001b[0m \u001b[38;5;66;03m# Example assumption: 'Delinquent' is a flag column; adjust to match your dataset\u001b[39;00m\n\u001b[0;32m      4\u001b[0m \u001b[38;5;66;03m# Step 1: Estimate annual revenue\u001b[39;00m\n\u001b[1;32m----> 5\u001b[0m df[\u001b[38;5;124m'\u001b[39m\u001b[38;5;124mestimated_annual_revenue\u001b[39m\u001b[38;5;124m'\u001b[39m] \u001b[38;5;241m=\u001b[39m df[\u001b[38;5;124m'\u001b[39m\u001b[38;5;124mTotal_Revolving_Bal\u001b[39m\u001b[38;5;124m'\u001b[39m] \u001b[38;5;241m*\u001b[39m \u001b[38;5;241m0.20\u001b[39m\n\u001b[0;32m      7\u001b[0m \u001b[38;5;66;03m# Step 2: Create attrition type\u001b[39;00m\n\u001b[0;32m      8\u001b[0m \u001b[38;5;28;01mdef\u001b[39;00m\u001b[38;5;250m \u001b[39m\u001b[38;5;21mclassify_attrition\u001b[39m(row):\n",
      "\u001b[1;31mNameError\u001b[0m: name 'df' is not defined"
     ]
    }
   ],
   "source": [
    "import pandas as pd\n",
    "\n",
    "# Example assumption: 'Delinquent' is a flag column; adjust to match your dataset\n",
    "# Step 1: Estimate annual revenue\n",
    "df['estimated_annual_revenue'] = df['Total_Revolving_Bal'] * 0.20\n",
    "\n",
    "# Step 2: Create attrition type\n",
    "def classify_attrition(row):\n",
    "    if row['Attrition_Flag'] == 'Attrited Customer':\n",
    "        if (row.get('Delinquent', 0) == 1) or (row['Months_Inactive_12_mon'] > 6):\n",
    "            return 'Involuntary Attrition'\n",
    "        else:\n",
    "            return 'Voluntary Attrition'\n",
    "    else:\n",
    "        return 'Existing Customer'\n",
    "\n",
    "df['Attrition_Type'] = df.apply(classify_attrition, axis=1)\n",
    "\n",
    "# Step 3: Group and sum revenue\n",
    "revenue_by_type = df.groupby('Attrition_Type')['estimated_annual_revenue'].sum().reset_index()\n",
    "\n",
    "# Step 4: Bar chart\n",
    "import matplotlib.pyplot as plt\n",
    "\n",
    "plt.figure(figsize=(8,5))\n",
    "plt.bar(revenue_by_type['Attrition_Type'], revenue_by_type['estimated_annual_revenue'])\n",
    "plt.xlabel('Attrition Type')\n",
    "plt.ylabel('Total Estimated Annual Revenue ($)')\n",
    "plt.title('Revenue Loss by Attrition Type')\n",
    "plt.xticks(rotation=15)\n",
    "plt.tight_layout()\n",
    "plt.show()\n"
   ]
  },
  {
   "cell_type": "code",
   "execution_count": null,
   "id": "2f1e899d-a32c-4448-b470-23e85c390c01",
   "metadata": {},
   "outputs": [],
   "source": []
  }
 ],
 "metadata": {
  "kernelspec": {
   "display_name": "Python 3 (ipykernel)",
   "language": "python",
   "name": "python3"
  },
  "language_info": {
   "codemirror_mode": {
    "name": "ipython",
    "version": 3
   },
   "file_extension": ".py",
   "mimetype": "text/x-python",
   "name": "python",
   "nbconvert_exporter": "python",
   "pygments_lexer": "ipython3",
   "version": "3.13.5"
  }
 },
 "nbformat": 4,
 "nbformat_minor": 5
}

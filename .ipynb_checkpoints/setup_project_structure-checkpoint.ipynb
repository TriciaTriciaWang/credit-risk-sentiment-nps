{
 "cells": [
  {
   "cell_type": "code",
   "execution_count": 6,
   "id": "7ecd7843-83cb-4e8f-8984-2036939aaf03",
   "metadata": {},
   "outputs": [
    {
     "name": "stdout",
     "output_type": "stream",
     "text": [
      "✅ Project folders and files created successfully.\n"
     ]
    }
   ],
   "source": [
    "import os\n",
    "os.chdir(r\"C:\\Users\\User\\Documents\\GitHub\\credit-risk-sentiment-nps\")\n",
    "\n",
    "# Define the base structure\n",
    "structure = {\n",
    "    \"data\": [\"raw\", \"processed\"],\n",
    "    \"sql\": [\"queries\"],\n",
    "    \"notebooks\": [],\n",
    "    \"src\": [],\n",
    "    \"reports\": [\"figures\"],\n",
    "    \"output\": [\"tables\", \"logs\"]\n",
    "}\n",
    "\n",
    "# File templates to be created in each subfolder\n",
    "files_to_create = {\n",
    "    \"sql\": [\"create_tables.sql\", \"load_data.sql\"],\n",
    "    \"sql/queries\": [\"churn_rate_by_segment.sql\", \"nps_by_age_group.sql\"],\n",
    "    \"notebooks\": [\"01-data-exploration.ipynb\", \"02-sentiment-analysis.ipynb\", \"03-nps-analysis.ipynb\"],\n",
    "    \"src\": [\"db_connection.py\", \"preprocess.py\", \"sentiment_model.py\", \"nps_calculator.py\"]\n",
    "}\n",
    "\n",
    "# Step 1: Create folders\n",
    "for main_folder, subfolders in structure.items():\n",
    "    for sub in subfolders:\n",
    "        os.makedirs(os.path.join(main_folder, sub), exist_ok=True)\n",
    "    if not subfolders:  # If the folder itself is the target\n",
    "        os.makedirs(main_folder, exist_ok=True)\n",
    "\n",
    "# Step 2: Create empty placeholder files\n",
    "for folder, files in files_to_create.items():\n",
    "    for file in files:\n",
    "        file_path = os.path.join(folder, file)\n",
    "        with open(file_path, \"w\") as f:\n",
    "            pass  # Creates empty file\n",
    "\n",
    "# Step 3: Create top-level files\n",
    "with open(\"requirements.txt\", \"w\") as f:\n",
    "    f.write(\"# Add your project dependencies here\\n\")\n",
    "\n",
    "with open(\".env\", \"w\") as f:\n",
    "    f.write(\"# Store sensitive credentials here\\n\")\n",
    "\n",
    "with open(\"README.md\", \"w\") as f:\n",
    "    f.write(\"# credit-risk-sentiment-nps\\n\\n\")\n",
    "\n",
    "with open(\"LICENSE\", \"w\") as f:\n",
    "    f.write(\"MIT License\\n\")\n",
    "\n",
    "print(\"✅ Project folders and files created successfully.\")\n"
   ]
  },
  {
   "cell_type": "code",
   "execution_count": 2,
   "id": "eb48352b-e485-4f39-a493-fdd33b8417c6",
   "metadata": {},
   "outputs": [
    {
     "data": {
      "text/plain": [
       "'C:\\\\Users\\\\User\\\\Documents\\\\GitHub\\\\credit-risk-sentiment-nps'"
      ]
     },
     "execution_count": 2,
     "metadata": {},
     "output_type": "execute_result"
    }
   ],
   "source": [
    "import os\n",
    "os.getcwd()"
   ]
  },
  {
   "cell_type": "code",
   "execution_count": 3,
   "id": "91d16c51-d736-4f33-b9c6-37f64f82c1ce",
   "metadata": {},
   "outputs": [
    {
     "data": {
      "text/plain": [
       "'C:\\\\Users\\\\User\\\\Documents\\\\GitHub\\\\credit-risk-sentiment-nps'"
      ]
     },
     "execution_count": 3,
     "metadata": {},
     "output_type": "execute_result"
    }
   ],
   "source": [
    "os.chdir(r\"C:\\Users\\User\\Documents\\GitHub\\credit-risk-sentiment-nps\")\n",
    "os.getcwd()"
   ]
  },
  {
   "cell_type": "code",
   "execution_count": 5,
   "id": "95235742-8701-4f25-9481-ea33180eeafa",
   "metadata": {},
   "outputs": [
    {
     "name": "stdout",
     "output_type": "stream",
     "text": [
      "📁 .\\.ipynb_checkpoints\n",
      "📁 .\\data\n",
      "📁 .\\notebooks\n",
      "📁 .\\output\n",
      "📁 .\\reports\n",
      "📁 .\\sql\n",
      "📁 .\\src\n",
      "📄 .\\.env\n",
      "📄 .\\LICENSE\n",
      "📄 .\\README.md\n",
      "📄 .\\requirements.txt\n",
      "📄 .\\setup_project_structure.ipynb\n",
      "📄 .\\setup_project_structure.py\n",
      "📄 .\\.ipynb_checkpoints\\setup_project_structure-checkpoint.ipynb\n",
      "📄 .\\.ipynb_checkpoints\\setup_project_structure-checkpoint.py\n",
      "📁 .\\data\\processed\n",
      "📁 .\\data\\raw\n",
      "📄 .\\notebooks\\01-data-exploration.ipynb\n",
      "📄 .\\notebooks\\02-sentiment-analysis.ipynb\n",
      "📄 .\\notebooks\\03-nps-analysis.ipynb\n",
      "📁 .\\output\\logs\n",
      "📁 .\\output\\tables\n",
      "📁 .\\reports\\figures\n",
      "📁 .\\sql\\queries\n",
      "📄 .\\sql\\create_tables.sql\n",
      "📄 .\\sql\\load_data.sql\n",
      "📄 .\\sql\\queries\\churn_rate_by_segment.sql\n",
      "📄 .\\sql\\queries\\nps_by_age_group.sql\n",
      "📄 .\\src\\db_connection.py\n",
      "📄 .\\src\\nps_calculator.py\n",
      "📄 .\\src\\preprocess.py\n",
      "📄 .\\src\\sentiment_model.py\n"
     ]
    }
   ],
   "source": [
    "# ✅ Checkpoint 3: Verify by Listing Files\n",
    "for root, dirs, files in os.walk(\".\", topdown=True):\n",
    "    for name in dirs:\n",
    "        print(\"📁\", os.path.join(root, name))\n",
    "    for name in files:\n",
    "        print(\"📄\", os.path.join(root, name))\n"
   ]
  },
  {
   "cell_type": "code",
   "execution_count": null,
   "id": "9661e61f-d784-4b79-97a5-4c2feaf0bd30",
   "metadata": {},
   "outputs": [],
   "source": []
  }
 ],
 "metadata": {
  "kernelspec": {
   "display_name": "Python 3 (ipykernel)",
   "language": "python",
   "name": "python3"
  },
  "language_info": {
   "codemirror_mode": {
    "name": "ipython",
    "version": 3
   },
   "file_extension": ".py",
   "mimetype": "text/x-python",
   "name": "python",
   "nbconvert_exporter": "python",
   "pygments_lexer": "ipython3",
   "version": "3.12.7"
  }
 },
 "nbformat": 4,
 "nbformat_minor": 5
}
